{
 "cells": [
  {
   "cell_type": "markdown",
   "metadata": {},
   "source": [
    "# This script\n",
    "Check dirichlet distribution, before understanding topic model"
   ]
  },
  {
   "cell_type": "markdown",
   "metadata": {},
   "source": [
    "# Import modules"
   ]
  },
  {
   "cell_type": "code",
   "execution_count": null,
   "metadata": {},
   "outputs": [],
   "source": [
    "import numpy as np\n",
    "import matplotlib.pyplot as plt\n",
    "import pandas as pd\n",
    "import seaborn as sns"
   ]
  },
  {
   "cell_type": "markdown",
   "metadata": {},
   "source": [
    "# Bernoulli\n",
    "Fliped coin is up or down?<br>\n",
    "Coin's up rate is up_rate."
   ]
  },
  {
   "cell_type": "code",
   "execution_count": null,
   "metadata": {},
   "outputs": [],
   "source": [
    "from scipy.stats import bernoulli\n",
    "test_size = 30\n",
    "up_rate = 0.3\n",
    "\n",
    "# samping\n",
    "rs = bernoulli.rvs(up_rate, size=test_size)\n",
    "\n",
    "plt.scatter(np.arange(len(rs)),rs)\n",
    "print(np.mean(rs))"
   ]
  },
  {
   "cell_type": "markdown",
   "metadata": {},
   "source": [
    "# Binomial\n",
    "How many times are coins uped, after fliping coin trial_size times.<br>\n",
    "Coin's up rate is up_rate."
   ]
  },
  {
   "cell_type": "code",
   "execution_count": null,
   "metadata": {},
   "outputs": [],
   "source": [
    "from scipy.stats import binom\n",
    "trial_size = 10\n",
    "up_rate = 0.3\n",
    "test_size = 10\n",
    "\n",
    "# sample\n",
    "rs = binom.rvs(trial_size, up_rate, size=test_size)\n",
    "\n",
    "plt.scatter(np.arange(len(rs)),rs)\n",
    "print(np.mean(rs))"
   ]
  },
  {
   "cell_type": "markdown",
   "metadata": {},
   "source": [
    "# Categorical\n",
    "Which number is realised, after rolling a dice?<br>\n",
    "Dice's each realized rate is dice_rates."
   ]
  },
  {
   "cell_type": "code",
   "execution_count": null,
   "metadata": {},
   "outputs": [],
   "source": [
    "dice_vals   = np.arange(4)\n",
    "dice_rates = np.array([0.1,0.2,0.3,0.4])\n",
    "test_size    = 100\n",
    "\n",
    "rs = np.random.choice(dice_vals,test_size,replace = True,p=dice_rates)\n",
    "\n",
    "plt.scatter(np.arange(len(rs)),rs)\n",
    "for dice_val in dice_vals:\n",
    "    print(dice_val,\":\",np.mean(rs == dice_val))"
   ]
  },
  {
   "cell_type": "markdown",
   "metadata": {},
   "source": [
    "# Multinomial\n",
    "How many times are each dice's value is realised, after rolling dice trial_size times?<br>\n",
    "Dice's rates of each numbers are dice_rates."
   ]
  },
  {
   "cell_type": "code",
   "execution_count": null,
   "metadata": {},
   "outputs": [],
   "source": [
    "from scipy.stats import multinomial\n",
    "trial_size = 10\n",
    "dice_rates = np.array([0.1,0.2,0.3,0.4])\n",
    "test_size = 20\n",
    "\n",
    "rs = multinomial.rvs(trial_size,dice_rates,test_size)\n",
    "rs_df = pd.DataFrame(rs).T\n",
    "display(rs_df)\n",
    "\n",
    "for i in range(len(rs_df)):\n",
    "    plt.bar(rs_df.columns, rs_df.iloc[i], bottom=rs_df.iloc[:i].sum())\n",
    "plt.xlabel('trial')\n",
    "plt.ylabel('realized count')\n",
    "plt.legend(rs_df.index)\n",
    "\n",
    "for val in range(len(dice_rates)):\n",
    "    print(val,\":\", np.mean(rs[:,val]))"
   ]
  },
  {
   "cell_type": "markdown",
   "metadata": {},
   "source": [
    "# Beta\n",
    "Distribution of Bern distribution's parameter.<br>\n",
    "0<=Beta<=1"
   ]
  },
  {
   "cell_type": "code",
   "execution_count": null,
   "metadata": {},
   "outputs": [],
   "source": [
    "from scipy.stats import beta\n",
    "\n",
    "a_s = np.array([0.1,0.5,1,2])\n",
    "b_s = np.array([0.1,0.5,1,2])\n",
    "xs = np.linspace(0,1,100)\n",
    "plt.figure(figsize=(15,10))\n",
    "plt.subplots_adjust(wspace=0.4,hspace=0.5)\n",
    "pi = 1\n",
    "for a in a_s:\n",
    "    for b in b_s:\n",
    "        plt.subplot(4,4,pi)\n",
    "        plt.title(f\"a:{a}, b:{b}\")\n",
    "        plt.plot(xs, beta.pdf(xs, a =a, b = b))\n",
    "        pi += 1\n",
    "#         plt.pause(0.1)"
   ]
  },
  {
   "cell_type": "markdown",
   "metadata": {},
   "source": [
    "# Dirichlet\n",
    "Distribution of categorical distribution's parameter.<br>\n",
    "0<=Dirichlet<=1, sum(Dirichlet) = 1"
   ]
  },
  {
   "cell_type": "code",
   "execution_count": null,
   "metadata": {},
   "outputs": [],
   "source": [
    "from scipy.stats import dirichlet\n",
    "from mpl_toolkits.mplot3d import Axes3D\n",
    "# %matplotlib notebook\n",
    "%matplotlib inline\n",
    "import itertools\n",
    "xs = np.linspace(0,1,20) + 1e-3\n",
    "xyzs = []\n",
    "for x, y, z in itertools.product(xs,xs,xs):\n",
    "    sum_xyz = x+y+z\n",
    "    if sum_xyz == 0:\n",
    "        continue\n",
    "    x /= sum_xyz\n",
    "    y /= sum_xyz\n",
    "    z /= sum_xyz\n",
    "    if [x,y,z] not in xyzs:\n",
    "        xyzs.append([x,y,z])\n",
    "        \n",
    "plt.figure(figsize=(10,10))\n",
    "betas = np.array([0.1,0.2,0.3])\n",
    "ps = []\n",
    "for xyz in xyzs:\n",
    "    p = dirichlet.pdf(xyz,betas)\n",
    "    ps.append(p)\n",
    "xyzs = np.array(xyzs)\n",
    "ps = np.array(ps)\n",
    "ps = np.log(ps)\n",
    "ps -= min(ps)\n",
    "ps /= max(ps)\n",
    "colors = []w\n",
    "for p in ps:\n",
    "    colors.append((p,0,0))\n",
    "plt.scatter(xyzs[:, 0],xyzs[:, 1],color = colors, s=10)"
   ]
  }
 ],
 "metadata": {
  "kernelspec": {
   "display_name": "Python 3",
   "language": "python",
   "name": "python3"
  },
  "language_info": {
   "codemirror_mode": {
    "name": "ipython",
    "version": 3
   },
   "file_extension": ".py",
   "mimetype": "text/x-python",
   "name": "python",
   "nbconvert_exporter": "python",
   "pygments_lexer": "ipython3",
   "version": "3.7.4"
  },
  "toc": {
   "base_numbering": 1,
   "nav_menu": {},
   "number_sections": true,
   "sideBar": true,
   "skip_h1_title": false,
   "title_cell": "Table of Contents",
   "title_sidebar": "Contents",
   "toc_cell": false,
   "toc_position": {},
   "toc_section_display": true,
   "toc_window_display": true
  },
  "varInspector": {
   "cols": {
    "lenName": 16,
    "lenType": 16,
    "lenVar": 40
   },
   "kernels_config": {
    "python": {
     "delete_cmd_postfix": "",
     "delete_cmd_prefix": "del ",
     "library": "var_list.py",
     "varRefreshCmd": "print(var_dic_list())"
    },
    "r": {
     "delete_cmd_postfix": ") ",
     "delete_cmd_prefix": "rm(",
     "library": "var_list.r",
     "varRefreshCmd": "cat(var_dic_list()) "
    }
   },
   "types_to_exclude": [
    "module",
    "function",
    "builtin_function_or_method",
    "instance",
    "_Feature"
   ],
   "window_display": false
  }
 },
 "nbformat": 4,
 "nbformat_minor": 2
}
