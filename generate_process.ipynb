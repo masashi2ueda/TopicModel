{
 "cells": [
  {
   "cell_type": "markdown",
   "metadata": {},
   "source": [
    "# This script\n",
    "p.56, generate process of topic model"
   ]
  },
  {
   "cell_type": "markdown",
   "metadata": {},
   "source": [
    "# import modules"
   ]
  },
  {
   "cell_type": "code",
   "execution_count": null,
   "metadata": {},
   "outputs": [],
   "source": [
    "import numpy as np\n",
    "from scipy.stats import dirichlet\n",
    "import pandas as pd\n",
    "\n",
    "from collections import OrderedDict\n",
    "np.random.seed(0)"
   ]
  },
  {
   "cell_type": "markdown",
   "metadata": {},
   "source": [
    "## assist functions"
   ]
  },
  {
   "cell_type": "code",
   "execution_count": null,
   "metadata": {},
   "outputs": [],
   "source": [
    "def sample_dirichlet(betas=None, beta =None, size = 1):\n",
    "    if betas is not None:\n",
    "        return dirichlet.rvs(betas).reshape(-1)\n",
    "    elif size == 1:\n",
    "        return dirichlet.rvs(beta)\n",
    "    else:\n",
    "        return dirichlet.rvs([beta]*size).reshape(-1)\n",
    "    raise RuntimeError(\"do not match any supposed args \")\n",
    "    return None\n",
    "\n",
    "def sample_categorical(ps, vals=None):\n",
    "    if vals is None:\n",
    "        vals = np.arange(len(ps))\n",
    "    realized = np.random.choice(vals,1,replace = True,p=ps)[0]\n",
    "    return realized"
   ]
  },
  {
   "cell_type": "markdown",
   "metadata": {},
   "source": [
    "# generate docs"
   ]
  },
  {
   "cell_type": "code",
   "execution_count": null,
   "metadata": {},
   "outputs": [],
   "source": [
    "def generate_topic_model_docs(word_size = 5, topic_size = 3, doc_size = 20,each_doc_word_size =30,\n",
    "                             topic_word_para =1,doc_topic_para = 2):\n",
    "\n",
    "    # topic word realized\n",
    "    phis = np.zeros((topic_size, word_size))\n",
    "    for ki in range(topic_size):\n",
    "        phi_k = sample_dirichlet(beta = topic_word_para, size = word_size)\n",
    "        phis[ki] = phi_k\n",
    "    # print(\"phis:\", phis)\n",
    "\n",
    "    # doc word realized\n",
    "    doc_thetas = np.zeros((doc_size, topic_size))\n",
    "    doc_topic_word_dict = OrderedDict()\n",
    "    for di in range(doc_size):\n",
    "    #     print(di,\"----------\")\n",
    "        theta_d = sample_dirichlet(beta = doc_topic_para, size = topic_size)\n",
    "        doc_thetas[di, :] =theta_d\n",
    "\n",
    "        topic_words_list = []\n",
    "    #     print(\"theta_d:\", theta_d)\n",
    "        for wi in range(each_doc_word_size):\n",
    "    #         print(\"--\")\n",
    "            topic_d = sample_categorical(theta_d)\n",
    "    #         print(\"topic_d:\", topic_d)\n",
    "    #         print(\"phis[topic_d]:\", phis[topic_d])\n",
    "            word_d = sample_categorical(phis[topic_d])\n",
    "    #         print(\"word_d:\", word_d)\n",
    "            topic_words_list.append(OrderedDict({\"topic\":topic_d, \"word\":word_d}))    \n",
    "        # output reshape\n",
    "        topic_words_df = pd.DataFrame(topic_words_list)\n",
    "        topic_words_df.index = [\"word\"+str(i) for i in range(each_doc_word_size)]\n",
    "        doc_topic_word_dict[\"doc\"+str(di)] = topic_words_df\n",
    "\n",
    "    # output reshape\n",
    "    phi_df = pd.DataFrame(phis).T\n",
    "    phi_df.index = [\"word\"+str(wi) for wi in range(word_size)]\n",
    "    phi_df.columns = [\"topic\"+str(ti) for ti in range(topic_size)]\n",
    "\n",
    "    doc_theta_df = pd.DataFrame(doc_thetas)\n",
    "    doc_theta_df.index = [\"doc\"+str(i) for i in range(doc_size)]\n",
    "    doc_theta_df.columns = [\"topic\"+str(i) for i in range(topic_size)]\n",
    "\n",
    "    return phi_df, doc_theta_df, doc_topic_word_dict"
   ]
  },
  {
   "cell_type": "markdown",
   "metadata": {},
   "source": [
    "# main"
   ]
  },
  {
   "cell_type": "code",
   "execution_count": null,
   "metadata": {
    "scrolled": false
   },
   "outputs": [],
   "source": [
    "if __name__ == \"__main__\":\n",
    "    word_size = 5\n",
    "    topic_size = 3\n",
    "    doc_size = 20\n",
    "    each_doc_word_size = 30\n",
    "    topic_word_para = 1\n",
    "    doc_topic_para = 1\n",
    "\n",
    "    phi_df, doc_theta_df, doc_topic_word_dict = generate_topic_model_docs(word_size = 5, topic_size = 3, doc_size = 20,each_doc_word_size =30,\n",
    "                                 topic_word_para =1,doc_topic_para = 2)\n",
    "    print(\"phi_df:\")\n",
    "    display(phi_df)\n",
    "    print(\"doc_theta_df:\")\n",
    "    display(doc_theta_df)\n",
    "    \n",
    "    for doc in doc_topic_word_dict.keys():\n",
    "        print(doc)\n",
    "        display(doc_topic_word_dict[doc])"
   ]
  }
 ],
 "metadata": {
  "kernelspec": {
   "display_name": "Python 3",
   "language": "python",
   "name": "python3"
  },
  "language_info": {
   "codemirror_mode": {
    "name": "ipython",
    "version": 3
   },
   "file_extension": ".py",
   "mimetype": "text/x-python",
   "name": "python",
   "nbconvert_exporter": "python",
   "pygments_lexer": "ipython3",
   "version": "3.7.4"
  },
  "toc": {
   "base_numbering": 1,
   "nav_menu": {},
   "number_sections": true,
   "sideBar": true,
   "skip_h1_title": false,
   "title_cell": "Table of Contents",
   "title_sidebar": "Contents",
   "toc_cell": false,
   "toc_position": {},
   "toc_section_display": true,
   "toc_window_display": false
  },
  "varInspector": {
   "cols": {
    "lenName": 16,
    "lenType": 16,
    "lenVar": 40
   },
   "kernels_config": {
    "python": {
     "delete_cmd_postfix": "",
     "delete_cmd_prefix": "del ",
     "library": "var_list.py",
     "varRefreshCmd": "print(var_dic_list())"
    },
    "r": {
     "delete_cmd_postfix": ") ",
     "delete_cmd_prefix": "rm(",
     "library": "var_list.r",
     "varRefreshCmd": "cat(var_dic_list()) "
    }
   },
   "types_to_exclude": [
    "module",
    "function",
    "builtin_function_or_method",
    "instance",
    "_Feature"
   ],
   "window_display": false
  }
 },
 "nbformat": 4,
 "nbformat_minor": 2
}
